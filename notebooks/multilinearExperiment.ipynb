{
 "cells": [
  {
   "cell_type": "markdown",
   "source": [
    "### Multilinear Regression from scratch"
   ],
   "metadata": {
    "collapsed": false
   },
   "id": "56ad59ba0ea7ce30"
  },
  {
   "cell_type": "code",
   "execution_count": 1,
   "outputs": [],
   "source": [
    "class Multilinear:\n",
    "    \n",
    "    def __init__(self, X, y):\n",
    "        self.X = X\n",
    "        self.y = y\n",
    "        self.m = len(y)\n",
    "        self.n = X.shape[1]\n",
    "        self.theta = np.zeros((self.n, 1))\n",
    "        self.alpha = 0.01\n",
    "        self.iterations = 1500\n",
    "        self.cost_history = np.zeros((self.iterations, 1))\n",
    "        \n",
    "    def compute_cost(self):\n",
    "        h = self.X.dot(self.theta)\n",
    "        return (1/(2*self.m)) * np.sum(np.square(h - self.y))\n",
    "    \n",
    "    def gradient_descent(self):\n",
    "        for i in range(self.iterations):\n",
    "            h = self.X.dot(self.theta)\n",
    "            self.theta = self.theta - (self.alpha/self.m) * (self.X.T.dot(h - self.y))\n",
    "            self.cost_history[i] = self.compute_cost()\n",
    "        return self.theta\n",
    "    \n",
    "    def predict(self, X):\n",
    "        return X.dot(self.theta)\n",
    "    \n",
    "    def plot_cost(self):\n",
    "        plt.plot(range(len(self.cost_history)), self.cost_history, 'r')\n",
    "        plt.title('Cost History')\n",
    "        plt.xlabel('Iterations')\n",
    "        plt.ylabel('Cost')\n",
    "        plt.show()"
   ],
   "metadata": {
    "collapsed": false,
    "ExecuteTime": {
     "end_time": "2023-10-12T08:38:39.158468Z",
     "start_time": "2023-10-12T08:38:39.117636Z"
    }
   },
   "id": "44a502f1d9bd2e7c"
  },
  {
   "cell_type": "code",
   "execution_count": 7,
   "outputs": [],
   "source": [
    "import matplotlib.pyplot as plt\n",
    "import numpy as np\n",
    "X = np.array([[1, 2, 3], [1, 3, 4], [1, 4, 5], [1, 5, 6]])\n",
    "y = np.array([[1], [2], [3], [4]])"
   ],
   "metadata": {
    "collapsed": false,
    "ExecuteTime": {
     "end_time": "2023-10-12T08:49:38.551073Z",
     "start_time": "2023-10-12T08:49:38.542513Z"
    }
   },
   "id": "d64df57693f0b8f"
  },
  {
   "cell_type": "code",
   "execution_count": 9,
   "outputs": [
    {
     "name": "stdout",
     "output_type": "stream",
     "text": [
      "Gradient descent : [[-0.77633898]\n",
      " [ 0.84915378]\n",
      " [ 0.0728148 ]]\n"
     ]
    },
    {
     "data": {
      "text/plain": "<Figure size 640x480 with 1 Axes>",
      "image/png": "[encoded data removed]"
     },
     "metadata": {},
     "output_type": "display_data"
    }
   ],
   "source": [
    "model = Multilinear(X, y)\n",
    "print(f\"Gradient descent : {model.gradient_descent()}\")\n",
    "model.plot_cost()"
   ],
   "metadata": {
    "collapsed": false,
    "ExecuteTime": {
     "end_time": "2023-10-12T08:51:50.015936Z",
     "start_time": "2023-10-12T08:51:49.624824Z"
    }
   },
   "id": "9ac740935aa2dd6a"
  },
  {
   "cell_type": "code",
   "execution_count": 10,
   "outputs": [],
   "source": [],
   "metadata": {
    "collapsed": false,
    "ExecuteTime": {
     "end_time": "2023-10-12T08:54:07.383969Z",
     "start_time": "2023-10-12T08:54:07.376523Z"
    }
   },
   "id": "edba58812e1102a3"
  },
  {
   "cell_type": "code",
   "execution_count": null,
   "outputs": [],
   "source": [],
   "metadata": {
    "collapsed": false
   },
   "id": "acdef9eca543b977"
  }
 ],
 "metadata": {
  "kernelspec": {
   "display_name": "Python 3",
   "language": "python",
   "name": "python3"
  },
  "language_info": {
   "codemirror_mode": {
    "name": "ipython",
    "version": 2
   },
   "file_extension": ".py",
   "mimetype": "text/x-python",
   "name": "python",
   "nbconvert_exporter": "python",
   "pygments_lexer": "ipython2",
   "version": "2.7.6"
  }
 },
 "nbformat": 4,
 "nbformat_minor": 5
}
