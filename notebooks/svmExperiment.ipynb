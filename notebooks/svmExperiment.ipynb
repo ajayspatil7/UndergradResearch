{
 "cells": [
  {
   "cell_type": "code",
   "execution_count": 113,
   "id": "initial_id",
   "metadata": {
    "collapsed": true,
    "ExecuteTime": {
     "end_time": "2023-10-25T18:57:14.043710Z",
     "start_time": "2023-10-25T18:57:13.997305Z"
    }
   },
   "outputs": [],
   "source": [
    "from sklearn.model_selection import train_test_split\n",
    "from sklearn import datasets\n",
    "import matplotlib.pyplot as plt\n",
    "import numpy as np\n",
    "from svm import supportvectormachine"
   ]
  },
  {
   "cell_type": "markdown",
   "source": [
    "### Initialise the dataset from sklearn"
   ],
   "metadata": {
    "collapsed": false
   },
   "id": "d3f5dc7f9cf04230"
  },
  {
   "cell_type": "code",
   "execution_count": 114,
   "outputs": [],
   "source": [
    "X, y = datasets.make_blobs(n_samples=50, n_features=2, centers=2, cluster_std=1.05, random_state=40)\n",
    "y = np.where(y == 0, -1, 1)"
   ],
   "metadata": {
    "collapsed": false,
    "ExecuteTime": {
     "end_time": "2023-10-25T18:57:16.392385Z",
     "start_time": "2023-10-25T18:57:16.385611Z"
    }
   },
   "id": "e336a3f300d581b2"
  },
  {
   "cell_type": "markdown",
   "source": [
    "### Prepare the dataset for training and testing"
   ],
   "metadata": {
    "collapsed": false
   },
   "id": "afa541c914d28dec"
  },
  {
   "cell_type": "code",
   "execution_count": 115,
   "outputs": [],
   "source": [
    "X_train, X_test, y_train, y_test = train_test_split(X, y, test_size=0.2, random_state=123)"
   ],
   "metadata": {
    "collapsed": false,
    "ExecuteTime": {
     "end_time": "2023-10-25T18:57:17.996459Z",
     "start_time": "2023-10-25T18:57:17.987008Z"
    }
   },
   "id": "9c528ef0d677dd92"
  },
  {
   "cell_type": "markdown",
   "source": [
    "### Setting up the SVM model"
   ],
   "metadata": {
    "collapsed": false
   },
   "id": "5bafa59a65fa370c"
  },
  {
   "cell_type": "code",
   "execution_count": 116,
   "outputs": [],
   "source": [
    "clf = supportvectormachine.SupportVectorMachine()\n",
    "clf.fit(X_train, y_train)\n",
    "predictions = clf.predict(X_test)"
   ],
   "metadata": {
    "collapsed": false,
    "ExecuteTime": {
     "end_time": "2023-10-25T18:57:21.097890Z",
     "start_time": "2023-10-25T18:57:19.415805Z"
    }
   },
   "id": "57769ca1e8fd6e8b"
  },
  {
   "cell_type": "code",
   "execution_count": 121,
   "outputs": [],
   "source": [],
   "metadata": {
    "collapsed": false,
    "ExecuteTime": {
     "end_time": "2023-10-25T18:58:46.208273Z",
     "start_time": "2023-10-25T18:58:46.190305Z"
    }
   },
   "id": "bd4e3ff64f4f5e6d"
  },
  {
   "cell_type": "code",
   "execution_count": 117,
   "outputs": [
    {
     "name": "stdout",
     "output_type": "stream",
     "text": [
      "0.0\n"
     ]
    }
   ],
   "source": [
    "def accuracy(y_true, y_pred):\n",
    "    accuracy = np.sum(y_true == y_pred) / len(y_true)\n",
    "    return accuracy\n",
    "\n",
    "print(accuracy(y_test, predictions))"
   ],
   "metadata": {
    "collapsed": false,
    "ExecuteTime": {
     "end_time": "2023-10-25T18:57:22.289245Z",
     "start_time": "2023-10-25T18:57:22.267285Z"
    }
   },
   "id": "c5b9f3d32e230644"
  },
  {
   "cell_type": "code",
   "execution_count": null,
   "outputs": [],
   "source": [
    "# X_train, x_test, y_train, y_test = train_test_split(X, y, test_size=0.2, random_state=42)"
   ],
   "metadata": {
    "collapsed": false
   },
   "id": "327b805268332d2c"
  },
  {
   "cell_type": "code",
   "execution_count": null,
   "outputs": [],
   "source": [
    "# classifier = supportvectormachine.SupportVectorMachine()\n",
    "# classifier.fit(X_train, y_train)\n",
    "# pred = classifier.predict(x_test)"
   ],
   "metadata": {
    "collapsed": false
   },
   "id": "7482444730245d99"
  },
  {
   "cell_type": "code",
   "execution_count": null,
   "outputs": [],
   "source": [
    "# def accuracy(y_true, y_pred):\n",
    "#     accuracy = np.sum(y_true == y_pred) / len(y_true)\n",
    "#     return accuracy"
   ],
   "metadata": {
    "collapsed": false
   },
   "id": "466e81de4b1af374"
  },
  {
   "cell_type": "code",
   "execution_count": null,
   "outputs": [],
   "source": [
    "accuracy = np.sum(y_test == predictions) / len(y_test)\n",
    "accuracy"
   ],
   "metadata": {
    "collapsed": false
   },
   "id": "4ad25d4309b18b01"
  },
  {
   "cell_type": "code",
   "execution_count": null,
   "outputs": [],
   "source": [],
   "metadata": {
    "collapsed": false
   },
   "id": "147cccf4ca54908d"
  },
  {
   "cell_type": "code",
   "execution_count": null,
   "outputs": [],
   "source": [],
   "metadata": {
    "collapsed": false
   },
   "id": "6e0fe6041d33f2ea"
  },
  {
   "cell_type": "code",
   "execution_count": null,
   "outputs": [],
   "source": [],
   "metadata": {
    "collapsed": false
   },
   "id": "3eec4085c00de90a"
  },
  {
   "cell_type": "code",
   "execution_count": null,
   "outputs": [],
   "source": [
    "import numpy as np\n",
    "\n",
    "class SVM:\n",
    "\n",
    "    def __init__(self, learning_rate=0.001, lambda_param=0.01, n_iters=1000):\n",
    "        self.lr = learning_rate\n",
    "        self.lambda_param = lambda_param\n",
    "        self.n_iters = n_iters\n",
    "        self.w = None\n",
    "        self.b = None\n",
    "\n",
    "    def fit(self, X, y):\n",
    "        n_samples, n_features = X.shape\n",
    "\n",
    "        y_ = np.where(y <= 0, -1, 1)\n",
    "\n",
    "        # init weights\n",
    "        self.w = np.zeros(n_features)\n",
    "        self.b = 0\n",
    "\n",
    "        for _ in range(self.n_iters):\n",
    "            for idx, x_i in enumerate(X):\n",
    "                condition = y_[idx] * (np.dot(x_i, self.w) - self.b) >= 1\n",
    "                if condition:\n",
    "                    self.w -= self.lr * (2 * self.lambda_param * self.w)\n",
    "                else:\n",
    "                    self.w -= self.lr * (2 * self.lambda_param * self.w - np.dot(x_i, y_[idx]))\n",
    "                    self.b -= self.lr * y_[idx]\n",
    "\n",
    "\n",
    "    def predict(self, X):\n",
    "        approx = np.dot(X, self.w) - self.b\n",
    "        return np.sign(approx)\n",
    "\n",
    "\n",
    "# Testing\n",
    "if __name__ == \"__main__\":\n",
    "    # Imports\n",
    "    from sklearn.model_selection import train_test_split\n",
    "    from sklearn import datasets\n",
    "    import matplotlib.pyplot as plt\n",
    "\n",
    "    X, y = datasets.make_blobs(\n",
    "        n_samples=50, n_features=2, centers=2, cluster_std=1.05, random_state=40\n",
    "    )\n",
    "    y = np.where(y == 0, -1, 1)\n",
    "\n",
    "    X_train, X_test, y_train, y_test = train_test_split(\n",
    "        X, y, test_size=0.2, random_state=123\n",
    "    )\n",
    "\n",
    "    clf = SVM()\n",
    "    clf.fit(X_train, y_train)\n",
    "    predictions = clf.predict(X_test)\n",
    "\n",
    "    def accuracy(y_true, y_pred):\n",
    "        accuracy = np.sum(y_true == y_pred) / len(y_true)\n",
    "        return accuracy\n",
    "\n",
    "    print(\"SVM classification accuracy\", accuracy(y_test, predictions))\n",
    "\n",
    "    def visualize_svm():\n",
    "        def get_hyperplane_value(x, w, b, offset):\n",
    "            return (-w[0] * x + b + offset) / w[1]\n",
    "\n",
    "        fig = plt.figure()\n",
    "        ax = fig.add_subplot(1, 1, 1)\n",
    "        plt.scatter(X[:, 0], X[:, 1], marker=\"o\", c=y)\n",
    "\n",
    "        x0_1 = np.amin(X[:, 0])\n",
    "        x0_2 = np.amax(X[:, 0])\n",
    "\n",
    "        x1_1 = get_hyperplane_value(x0_1, clf.w, clf.b, 0)\n",
    "        x1_2 = get_hyperplane_value(x0_2, clf.w, clf.b, 0)\n",
    "\n",
    "        x1_1_m = get_hyperplane_value(x0_1, clf.w, clf.b, -1)\n",
    "        x1_2_m = get_hyperplane_value(x0_2, clf.w, clf.b, -1)\n",
    "\n",
    "        x1_1_p = get_hyperplane_value(x0_1, clf.w, clf.b, 1)\n",
    "        x1_2_p = get_hyperplane_value(x0_2, clf.w, clf.b, 1)\n",
    "\n",
    "        ax.plot([x0_1, x0_2], [x1_1, x1_2], \"y--\")\n",
    "        ax.plot([x0_1, x0_2], [x1_1_m, x1_2_m], \"k\")\n",
    "        ax.plot([x0_1, x0_2], [x1_1_p, x1_2_p], \"k\")\n",
    "\n",
    "        x1_min = np.amin(X[:, 1])\n",
    "        x1_max = np.amax(X[:, 1])\n",
    "        ax.set_ylim([x1_min - 3, x1_max + 3])\n",
    "\n",
    "        plt.show()\n",
    "\n",
    "    visualize_svm()"
   ],
   "metadata": {
    "collapsed": false
   },
   "id": "d50584a5589f0b7c"
  },
  {
   "cell_type": "code",
   "execution_count": null,
   "outputs": [],
   "source": [],
   "metadata": {
    "collapsed": false
   },
   "id": "fc6ef90978ea738a"
  }
 ],
 "metadata": {
  "kernelspec": {
   "display_name": "Python 3",
   "language": "python",
   "name": "python3"
  },
  "language_info": {
   "codemirror_mode": {
    "name": "ipython",
    "version": 2
   },
   "file_extension": ".py",
   "mimetype": "text/x-python",
   "name": "python",
   "nbconvert_exporter": "python",
   "pygments_lexer": "ipython2",
   "version": "2.7.6"
  }
 },
 "nbformat": 4,
 "nbformat_minor": 5
}
